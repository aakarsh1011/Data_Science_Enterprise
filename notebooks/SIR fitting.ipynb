{
 "cells": [
  {
   "cell_type": "code",
   "execution_count": 1,
   "id": "41e018e4",
   "metadata": {},
   "outputs": [],
   "source": [
    "import pandas as pd\n",
    "import numpy as np\n",
    "\n",
    "from datetime import datetime\n",
    "import pandas as pd \n",
    "\n",
    "from scipy import optimize\n",
    "from scipy import integrate\n",
    "\n",
    "%matplotlib inline\n",
    "import matplotlib as mpl\n",
    "import matplotlib.pyplot as plt\n",
    "\n",
    "import seaborn as sns\n",
    "\n",
    "\n",
    "sns.set(style=\"darkgrid\")\n",
    "\n",
    "mpl.rcParams['figure.figsize'] = (16, 9)\n",
    "pd.set_option('display.max_rows', 500)\n",
    "\n",
    "import plotly.graph_objects as go\n",
    "\n",
    "import pandas as pd\n",
    "import plotly.graph_objects as go\n",
    "\n",
    "import dash\n",
    "from dash import dcc\n",
    "from dash import html\n",
    "from dash.dependencies import Input, Output\n"
   ]
  },
  {
   "cell_type": "code",
   "execution_count": 2,
   "id": "c82b6d56",
   "metadata": {},
   "outputs": [],
   "source": [
    "# url from the Covid-19 data is extracted\n",
    "url = \"https://covid.ourworldindata.org/data/owid-covid-data.csv\""
   ]
  },
  {
   "cell_type": "code",
   "execution_count": 3,
   "id": "980bef94",
   "metadata": {},
   "outputs": [],
   "source": [
    "def prep_fitting_data(df,countries: list):\n",
    "    new = df[df.location.isin(countries)]\n",
    "    table = pd.pivot_table(new, values='new_cases_smoothed', index=['date'],\n",
    "                        columns=['location'], fill_value=0)\n",
    "    return table"
   ]
  },
  {
   "cell_type": "code",
   "execution_count": 4,
   "id": "4d0a2338",
   "metadata": {},
   "outputs": [],
   "source": [
    "def get_data(url):\n",
    "    \n",
    "    \"\"\"\n",
    "    Reads CSV data COVID-19 data of different counties from the url  \n",
    "    \n",
    "    INPUT: URL of the CSV\n",
    "    OUTPUT: Pandas dataframe\n",
    "\n",
    "    \"\"\"\n",
    "    \n",
    "    url = \"https://covid.ourworldindata.org/data/owid-covid-data.csv\"\n",
    "    covid_data = pd.read_csv(url,sep=\",\")\n",
    "    print(f\"The number of unique countries in the data are {len(covid_data['location'].unique())}\")\n",
    "    \n",
    "    return covid_data\n",
    "    "
   ]
  },
  {
   "cell_type": "code",
   "execution_count": 5,
   "id": "44caabba",
   "metadata": {},
   "outputs": [],
   "source": [
    "def clean_data(df):\n",
    "    \"\"\"\n",
    "    Takes in the dataframe and\n",
    "    - removes unnecessary columns\n",
    "    - fills the NaN values with zeroes [Assumption: NaN means there were no cases that day instead of filling it with mean values] \n",
    "    - correcting the datetime format\n",
    "    \n",
    "    INPUT: Pandas dataframe\n",
    "    OUTPUT: Cleaned dataframe\n",
    "\n",
    "    \"\"\"\n",
    "    cases = df[['date','location','new_cases_smoothed','total_cases', 'total_deaths', 'new_deaths_smoothed']]\n",
    "    cases = cases.fillna(0)\n",
    "    \n",
    "    # converting date object into datetime\n",
    "    cases[\"date\"]= pd.to_datetime(cases[\"date\"])\n",
    "    \n",
    "    # reseting the index\n",
    "    cases = cases.reset_index(drop = True)\n",
    "    cases['new_cases_smoothed'] = cases['new_cases_smoothed'].apply(np.ceil)\n",
    "    \n",
    "    loc = \"E:/uni/Data_Science_E/Data_Science_Enterprise/data/final_cases.csv\"\n",
    "    # saving the dataset\n",
    "    cases.to_csv(loc,index=False)\n",
    "    \n",
    "    return cases\n",
    "    "
   ]
  },
  {
   "cell_type": "code",
   "execution_count": 6,
   "id": "9ce1d67e",
   "metadata": {},
   "outputs": [
    {
     "name": "stdout",
     "output_type": "stream",
     "text": [
      "The number of unique countries in the data are 244\n"
     ]
    }
   ],
   "source": [
    "covid_data = get_data(url)\n",
    "cases = clean_data(covid_data)"
   ]
  },
  {
   "cell_type": "code",
   "execution_count": 7,
   "id": "994b6ac0",
   "metadata": {},
   "outputs": [],
   "source": [
    "N0=1000000 #max susceptible population\n",
    "beta=0.4   # infection spread dynamics/contact rate\n",
    "gamma=0.1  # recovery rate\n",
    "\n",
    "countries = ['Germany','Italy','France']\n",
    "df = prep_fitting_data(cases,countries)\n",
    "t=np.arange(len(df.Germany[220:320]))\n",
    "I0=df.Germany[220:320][0]\n",
    "S0=N0-I0\n",
    "R0=0"
   ]
  },
  {
   "cell_type": "code",
   "execution_count": 8,
   "id": "54ca2316",
   "metadata": {},
   "outputs": [],
   "source": [
    "def SIR_model_t(SIR,t,beta,gamma):\n",
    "    ''' Simple SIR model\n",
    "        S: susceptible population\n",
    "        t: time step, mandatory for integral.odeint\n",
    "        I: infected people\n",
    "        R: recovered people\n",
    "        beta: \n",
    "        \n",
    "        overall condition is that the sum of changes (differnces) sum up to 0\n",
    "        dS+dI+dR=0\n",
    "        S+I+R= N (constant size of population)\n",
    "    \n",
    "    '''\n",
    "    \n",
    "    S,I,R=SIR\n",
    "    dS_dt=-beta*S*I/N0          #S*I is the \n",
    "    dI_dt=beta*S*I/N0-gamma*I\n",
    "    dR_dt=gamma*I\n",
    "    return dS_dt,dI_dt,dR_dt"
   ]
  },
  {
   "cell_type": "code",
   "execution_count": 9,
   "id": "e85d2f6a",
   "metadata": {},
   "outputs": [],
   "source": [
    "def fit_odeint( x, beta, gamma):\n",
    "    '''\n",
    "    helper function for the integration\n",
    "    '''\n",
    "    return integrate.odeint(SIR_model_t, (S0, I0, R0), t, args=(beta, gamma))[:,1] # we only would like to get dI"
   ]
  },
  {
   "cell_type": "code",
   "execution_count": 10,
   "id": "7d2f3be9",
   "metadata": {},
   "outputs": [],
   "source": [
    "app = dash.Dash()\n",
    "\n",
    "app.layout = html.Div([\n",
    "    html.H4(\"Fitting SIR model\"),\n",
    "    html.P(\"Select Country:\"),\n",
    "    dcc.Dropdown(\n",
    "        id='dropdown',\n",
    "        options=[\"Germany\", \"Italy\", \"France\"],\n",
    "        value='Germany',\n",
    "        multi=False\n",
    "    ),\n",
    "    dcc.Graph(id=\"graph\"),\n",
    "])\n",
    "\n",
    "\n",
    "@app.callback(\n",
    "    Output(\"graph\", \"figure\"), \n",
    "    Input('dropdown', \"value\"))\n",
    "\n",
    "def fit_and_display(name): \n",
    "    \n",
    "    #df = prep_fitting_data(cases,countries)\n",
    "    \n",
    "    # set some basic parameters\n",
    "    # beta/gamma is denoted as  'basic reproduction number'\n",
    "\n",
    "        \n",
    "    if name == \"Germany\":\n",
    "        ydata = df.Germany[220:320]\n",
    "    elif name == \"Italy\":\n",
    "        ydata = df.Italy[220:320]\n",
    "    else:\n",
    "        ydata = df.France[220:320]\n",
    "    \n",
    "    t=np.arange(len(ydata))\n",
    "    \n",
    "    # ensure re-initialization \n",
    "    I0=ydata[0]\n",
    "    S0=N0-I0\n",
    "    R0=0\n",
    "    \n",
    "    # example curve of our differential equationa\n",
    "    popt=[0.4,0.1]\n",
    "    fit_odeint(t, *popt)\n",
    "    \n",
    "    popt, pcov = optimize.curve_fit(fit_odeint, t, ydata)\n",
    "    perr = np.sqrt(np.diag(pcov))\n",
    "     \n",
    "    # get the final fitted curve\n",
    "    fitted=fit_odeint(t, *popt)\n",
    "        \n",
    "    \n",
    "    fig = go.Figure([\n",
    "        go.Scatter(x=t, y=ydata, \n",
    "                   name='true cases', mode='markers'),\n",
    "        go.Scatter(x=t, y=fitted, \n",
    "                   name='prediction')\n",
    "    ])\n",
    "    \n",
    "    print(name)\n",
    "    print('standard deviation errors : ',str(perr), ' start infect:',ydata[0])\n",
    "    print(\"Optimal parameters: beta =\", popt[0], \" and gamma = \", popt[1])\n",
    "    \n",
    "    return fig\n"
   ]
  },
  {
   "cell_type": "code",
   "execution_count": null,
   "id": "47ee76df",
   "metadata": {},
   "outputs": [
    {
     "name": "stdout",
     "output_type": "stream",
     "text": [
      "Dash is running on http://127.0.0.1:8050/\n",
      "\n",
      " * Serving Flask app '__main__' (lazy loading)\n",
      " * Environment: production\n",
      "\u001b[31m   WARNING: This is a development server. Do not use it in a production deployment.\u001b[0m\n",
      "\u001b[2m   Use a production WSGI server instead.\u001b[0m\n",
      " * Debug mode: on\n",
      "Germany\n",
      "standard deviation errors :  [0.00608712 0.00538488]  start infect: 1258\n",
      "Optimal parameters: beta = 0.23868436929410589  and gamma =  0.1948134289849858\n",
      "France\n",
      "standard deviation errors :  [0.00883392 0.00722845]  start infect: 5190\n",
      "Optimal parameters: beta = 0.29439630152335083  and gamma =  0.2171596221973274\n"
     ]
    }
   ],
   "source": [
    "if __name__ == '__main__':\n",
    "    app.run_server(debug=True, use_reloader=False)"
   ]
  },
  {
   "cell_type": "code",
   "execution_count": null,
   "id": "76a8931f",
   "metadata": {},
   "outputs": [],
   "source": []
  }
 ],
 "metadata": {
  "kernelspec": {
   "display_name": "Python 3 (ipykernel)",
   "language": "python",
   "name": "python3"
  },
  "language_info": {
   "codemirror_mode": {
    "name": "ipython",
    "version": 3
   },
   "file_extension": ".py",
   "mimetype": "text/x-python",
   "name": "python",
   "nbconvert_exporter": "python",
   "pygments_lexer": "ipython3",
   "version": "3.9.7"
  }
 },
 "nbformat": 4,
 "nbformat_minor": 5
}
