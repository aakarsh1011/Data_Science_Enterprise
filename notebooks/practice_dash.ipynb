{
 "cells": [
  {
   "cell_type": "code",
   "execution_count": 1,
   "id": "c264a1cc",
   "metadata": {},
   "outputs": [],
   "source": [
    "import pandas as pd\n",
    "\n",
    "from datetime import datetime\n",
    "\n",
    "%matplotlib inline\n",
    "\n",
    "import matplotlib as mpl\n",
    "import matplotlib.pyplot as plt\n",
    "\n",
    "import plotly.graph_objects as go\n",
    "\n",
    "import dash\n",
    "from dash import dcc\n",
    "from dash import html\n",
    "from dash.dependencies import Input, Output"
   ]
  },
  {
   "cell_type": "code",
   "execution_count": 2,
   "id": "917e14b2",
   "metadata": {},
   "outputs": [],
   "source": [
    "mpl.rcParams['figure.figsize'] = (16, 9)\n",
    "pd.set_option('display.max_rows', 500)\n",
    "pd.set_option('display.max_columns', 500)\n",
    "\n",
    "#sns.set(style=\"darkgrid\")"
   ]
  },
  {
   "cell_type": "code",
   "execution_count": 24,
   "id": "81d18442",
   "metadata": {},
   "outputs": [],
   "source": [
    "# url from the Covid-19 data is extracted\n",
    "url = \"https://covid.ourworldindata.org/data/owid-covid-data.csv\""
   ]
  },
  {
   "cell_type": "code",
   "execution_count": 25,
   "id": "0552675f",
   "metadata": {},
   "outputs": [],
   "source": [
    "covid_data = pd.read_csv(url,sep=\",\")"
   ]
  },
  {
   "cell_type": "code",
   "execution_count": 26,
   "id": "0c619236",
   "metadata": {},
   "outputs": [
    {
     "name": "stdout",
     "output_type": "stream",
     "text": [
      "The number of unique countries in the data are 244\n"
     ]
    }
   ],
   "source": [
    "print(f\"The number of unique countries in the data are {len(covid_data['location'].unique())}\")"
   ]
  },
  {
   "cell_type": "code",
   "execution_count": 27,
   "id": "c6024348",
   "metadata": {},
   "outputs": [],
   "source": [
    "def get_data(url):\n",
    "    \n",
    "    \"\"\"\n",
    "    Reads CSV data COVID-19 data of different counties from the url  \n",
    "    \n",
    "    INPUT: URL of the CSV\n",
    "    OUTPUT: Pandas dataframe\n",
    "\n",
    "    \"\"\"\n",
    "    \n",
    "    url = \"https://covid.ourworldindata.org/data/owid-covid-data.csv\"\n",
    "    covid_data = pd.read_csv(url,sep=\",\")\n",
    "    print(f\"The number of unique countries in the data are {len(covid_data['location'].unique())}\")\n",
    "    \n",
    "    return covid_data\n",
    "    "
   ]
  },
  {
   "cell_type": "code",
   "execution_count": 28,
   "id": "3390d59b",
   "metadata": {},
   "outputs": [],
   "source": [
    "def clean_data(df):\n",
    "    \"\"\"\n",
    "    Takes in the dataframe and\n",
    "    - removes unnecessary columns\n",
    "    - fills the NaN values with zeroes [Assumption: NaN means there were no cases that day instead of filling it with mean values] \n",
    "    - correcting the datetime format\n",
    "    \n",
    "    INPUT: Pandas dataframe\n",
    "    OUTPUT: Cleaned dataframe\n",
    "\n",
    "    \"\"\"\n",
    "    cases = df[['date','location','new_cases_smoothed','total_cases', 'total_deaths', 'new_deaths_smoothed']]\n",
    "    cases = cases.fillna(0)\n",
    "    \n",
    "    # converting date object into datetime\n",
    "    cases[\"date\"]= pd.to_datetime(cases[\"date\"])\n",
    "    \n",
    "    # reseting the index\n",
    "    cases = cases.reset_index(drop = True)\n",
    "    \n",
    "    loc = \"E:/uni/Data_Science_E/Data_Science_Enterprise/data/final_cases.csv\"\n",
    "    # saving the dataset\n",
    "    cases.to_csv(loc,index=False)\n",
    "    \n",
    "    return cases\n",
    "    "
   ]
  },
  {
   "cell_type": "markdown",
   "id": "8d41dc3b",
   "metadata": {},
   "source": [
    "### Dataset for total cases"
   ]
  },
  {
   "cell_type": "code",
   "execution_count": 29,
   "id": "5166f64c",
   "metadata": {},
   "outputs": [],
   "source": [
    "cases = covid_data[['date','location','new_cases_smoothed','total_cases', 'total_deaths', 'new_deaths_smoothed']]"
   ]
  },
  {
   "cell_type": "code",
   "execution_count": 30,
   "id": "3ce09ae0",
   "metadata": {},
   "outputs": [
    {
     "name": "stdout",
     "output_type": "stream",
     "text": [
      "<class 'pandas.core.frame.DataFrame'>\n",
      "RangeIndex: 203338 entries, 0 to 203337\n",
      "Data columns (total 6 columns):\n",
      " #   Column               Non-Null Count   Dtype  \n",
      "---  ------               --------------   -----  \n",
      " 0   date                 203338 non-null  object \n",
      " 1   location             203338 non-null  object \n",
      " 2   new_cases_smoothed   203338 non-null  float64\n",
      " 3   total_cases          203338 non-null  float64\n",
      " 4   total_deaths         203338 non-null  float64\n",
      " 5   new_deaths_smoothed  203338 non-null  float64\n",
      "dtypes: float64(4), object(2)\n",
      "memory usage: 9.3+ MB\n"
     ]
    }
   ],
   "source": [
    "cases = cases.fillna(0)\n",
    "cases.info()"
   ]
  },
  {
   "cell_type": "code",
   "execution_count": 31,
   "id": "ea932055",
   "metadata": {},
   "outputs": [
    {
     "name": "stdout",
     "output_type": "stream",
     "text": [
      "<class 'pandas.core.frame.DataFrame'>\n",
      "RangeIndex: 203338 entries, 0 to 203337\n",
      "Data columns (total 6 columns):\n",
      " #   Column               Non-Null Count   Dtype         \n",
      "---  ------               --------------   -----         \n",
      " 0   date                 203338 non-null  datetime64[ns]\n",
      " 1   location             203338 non-null  object        \n",
      " 2   new_cases_smoothed   203338 non-null  float64       \n",
      " 3   total_cases          203338 non-null  float64       \n",
      " 4   total_deaths         203338 non-null  float64       \n",
      " 5   new_deaths_smoothed  203338 non-null  float64       \n",
      "dtypes: datetime64[ns](1), float64(4), object(1)\n",
      "memory usage: 9.3+ MB\n"
     ]
    }
   ],
   "source": [
    "# converting date object into datetime\n",
    "cases[\"date\"]= pd.to_datetime(cases[\"date\"])\n",
    "cases.info()"
   ]
  },
  {
   "cell_type": "code",
   "execution_count": 32,
   "id": "2addad42",
   "metadata": {},
   "outputs": [
    {
     "data": {
      "text/html": [
       "<div>\n",
       "<style scoped>\n",
       "    .dataframe tbody tr th:only-of-type {\n",
       "        vertical-align: middle;\n",
       "    }\n",
       "\n",
       "    .dataframe tbody tr th {\n",
       "        vertical-align: top;\n",
       "    }\n",
       "\n",
       "    .dataframe thead th {\n",
       "        text-align: right;\n",
       "    }\n",
       "</style>\n",
       "<table border=\"1\" class=\"dataframe\">\n",
       "  <thead>\n",
       "    <tr style=\"text-align: right;\">\n",
       "      <th></th>\n",
       "      <th>date</th>\n",
       "      <th>location</th>\n",
       "      <th>new_cases_smoothed</th>\n",
       "      <th>total_cases</th>\n",
       "      <th>total_deaths</th>\n",
       "      <th>new_deaths_smoothed</th>\n",
       "    </tr>\n",
       "  </thead>\n",
       "  <tbody>\n",
       "    <tr>\n",
       "      <th>203333</th>\n",
       "      <td>2022-07-19</td>\n",
       "      <td>Zimbabwe</td>\n",
       "      <td>29.429</td>\n",
       "      <td>256187.0</td>\n",
       "      <td>5568.0</td>\n",
       "      <td>0.429</td>\n",
       "    </tr>\n",
       "    <tr>\n",
       "      <th>203334</th>\n",
       "      <td>2022-07-20</td>\n",
       "      <td>Zimbabwe</td>\n",
       "      <td>29.429</td>\n",
       "      <td>256187.0</td>\n",
       "      <td>5568.0</td>\n",
       "      <td>0.429</td>\n",
       "    </tr>\n",
       "    <tr>\n",
       "      <th>203335</th>\n",
       "      <td>2022-07-21</td>\n",
       "      <td>Zimbabwe</td>\n",
       "      <td>24.286</td>\n",
       "      <td>256217.0</td>\n",
       "      <td>5570.0</td>\n",
       "      <td>0.571</td>\n",
       "    </tr>\n",
       "    <tr>\n",
       "      <th>203336</th>\n",
       "      <td>2022-07-22</td>\n",
       "      <td>Zimbabwe</td>\n",
       "      <td>19.143</td>\n",
       "      <td>256217.0</td>\n",
       "      <td>5570.0</td>\n",
       "      <td>0.571</td>\n",
       "    </tr>\n",
       "    <tr>\n",
       "      <th>203337</th>\n",
       "      <td>2022-07-23</td>\n",
       "      <td>Zimbabwe</td>\n",
       "      <td>23.286</td>\n",
       "      <td>256246.0</td>\n",
       "      <td>5572.0</td>\n",
       "      <td>0.857</td>\n",
       "    </tr>\n",
       "  </tbody>\n",
       "</table>\n",
       "</div>"
      ],
      "text/plain": [
       "             date  location  new_cases_smoothed  total_cases  total_deaths  \\\n",
       "203333 2022-07-19  Zimbabwe              29.429     256187.0        5568.0   \n",
       "203334 2022-07-20  Zimbabwe              29.429     256187.0        5568.0   \n",
       "203335 2022-07-21  Zimbabwe              24.286     256217.0        5570.0   \n",
       "203336 2022-07-22  Zimbabwe              19.143     256217.0        5570.0   \n",
       "203337 2022-07-23  Zimbabwe              23.286     256246.0        5572.0   \n",
       "\n",
       "        new_deaths_smoothed  \n",
       "203333                0.429  \n",
       "203334                0.429  \n",
       "203335                0.571  \n",
       "203336                0.571  \n",
       "203337                0.857  "
      ]
     },
     "execution_count": 32,
     "metadata": {},
     "output_type": "execute_result"
    }
   ],
   "source": [
    "# reseting the index\n",
    "cases = cases.reset_index(drop = True)\n",
    "cases.tail()"
   ]
  },
  {
   "cell_type": "code",
   "execution_count": 33,
   "id": "1e92ff95",
   "metadata": {},
   "outputs": [],
   "source": [
    "# saving the dataset\n",
    "\n",
    "cases.to_csv(\"E:/uni/Data_Science_E/Data_Science_Enterprise/data/final_cases.csv\",index=False)"
   ]
  },
  {
   "cell_type": "markdown",
   "id": "f77e57f7",
   "metadata": {},
   "source": [
    "### Dashboard preparation"
   ]
  },
  {
   "cell_type": "code",
   "execution_count": 43,
   "id": "ac7e9d58",
   "metadata": {},
   "outputs": [
    {
     "name": "stdout",
     "output_type": "stream",
     "text": [
      "Dash is running on http://127.0.0.1:8050/\n",
      "\n",
      "Dash is running on http://127.0.0.1:8050/\n",
      "\n",
      "Dash is running on http://127.0.0.1:8050/\n",
      "\n",
      "Dash is running on http://127.0.0.1:8050/\n",
      "\n",
      "Dash is running on http://127.0.0.1:8050/\n",
      "\n",
      "Dash is running on http://127.0.0.1:8050/\n",
      "\n",
      "Dash is running on http://127.0.0.1:8050/\n",
      "\n",
      " * Serving Flask app '__main__' (lazy loading)\n",
      " * Environment: production\n",
      "\u001b[31m   WARNING: This is a development server. Do not use it in a production deployment.\u001b[0m\n",
      "\u001b[2m   Use a production WSGI server instead.\u001b[0m\n",
      " * Debug mode: on\n"
     ]
    }
   ],
   "source": [
    "cases = pd.read_csv(\"E:/uni/Data_Science_E/Data_Science_Enterprise/data/final_cases.csv\")\n",
    "\n",
    "fig = go.Figure()\n",
    "\n",
    "app = dash.Dash()\n",
    "app.layout = html.Div([\n",
    "\n",
    "    dcc.Markdown('''\n",
    "    #  Applied Data Science on COVID-19 data\n",
    "\n",
    "    Goal of the project is to teach data science by applying a cross industry standard process,\n",
    "    it covers the full walkthrough of: automated data gathering, data transformations,\n",
    "    filtering and machine learning to approximating the doubling time, and\n",
    "    (static) deployment of responsive dashboard.\n",
    "\n",
    "    '''),\n",
    "\n",
    "    dcc.Markdown('''\n",
    "    ## Multi-Select Country for visualization\n",
    "    '''),\n",
    "\n",
    "\n",
    "    dcc.Dropdown(\n",
    "        id='country_drop_down',\n",
    "        options=[ {'label': each,'value':each} for each in cases['location'].unique()],\n",
    "        value=['Germany','Italy'], # which are pre-selected\n",
    "        multi=True\n",
    "    ),\n",
    "\n",
    "    dcc.Markdown('''\n",
    "        ## Select other graphs\n",
    "        '''),\n",
    "\n",
    "\n",
    "    dcc.Dropdown(\n",
    "    id='daily_stats',\n",
    "    options=[\n",
    "        {'label': 'Daily New Cases', 'value': 'new_cases_smoothed'},\n",
    "        {'label': 'Daily New Deaths', 'value': 'new_deaths_smoothed'},\n",
    "        {'label': 'Total Cases', 'value': 'total_cases'},\n",
    "        {'label': 'Total Deaths', 'value': 'total_deaths'},\n",
    "    ],\n",
    "    value='new_cases_smoothed',\n",
    "    multi=False\n",
    "    ), \n",
    "\n",
    "    dcc.Graph(figure=fig, id='main_window_slope')\n",
    "])\n",
    "\n",
    "\n",
    "\n",
    "@app.callback(\n",
    "    Output('main_window_slope', 'figure'),\n",
    "    [Input('country_drop_down', 'value'),\n",
    "    Input('daily_stats', 'value')])\n",
    "\n",
    "def update_figure(country_list,show_stats):\n",
    "\n",
    "    traces = []\n",
    "    for each in country_list:\n",
    "\n",
    "        df_plot=cases[cases['location']==each]\n",
    "\n",
    "\n",
    "        traces.append(dict(x=df_plot.date,\n",
    "                                y=df_plot[show_stats],\n",
    "                                mode='markers+lines',\n",
    "                                opacity=0.9,\n",
    "                                name=each\n",
    "                        )\n",
    "                )\n",
    "\n",
    "    return {\n",
    "            'data': traces,\n",
    "            'layout': dict (\n",
    "                width=1280,\n",
    "                height=720,\n",
    "\n",
    "                xaxis={'title':'Timeline',\n",
    "                        'tickangle':-45,\n",
    "                        'nticks':20,\n",
    "                        'tickfont':dict(size=14,color=\"#7f7f7f\"),\n",
    "                      }\n",
    "        )\n",
    "    }\n",
    "\n",
    "if __name__ == '__main__':\n",
    "\n",
    "    app.run_server(debug=True, use_reloader=False)"
   ]
  },
  {
   "cell_type": "code",
   "execution_count": null,
   "id": "bfead122",
   "metadata": {},
   "outputs": [],
   "source": []
  }
 ],
 "metadata": {
  "kernelspec": {
   "display_name": "Python 3 (ipykernel)",
   "language": "python",
   "name": "python3"
  },
  "language_info": {
   "codemirror_mode": {
    "name": "ipython",
    "version": 3
   },
   "file_extension": ".py",
   "mimetype": "text/x-python",
   "name": "python",
   "nbconvert_exporter": "python",
   "pygments_lexer": "ipython3",
   "version": "3.9.7"
  }
 },
 "nbformat": 4,
 "nbformat_minor": 5
}
