{
 "cells": [
  {
   "cell_type": "code",
   "execution_count": 26,
   "id": "3a9e6c70",
   "metadata": {},
   "outputs": [],
   "source": [
    "import numpy as np\n",
    "import dash\n",
    "import dash_core_components as dcc\n",
    "import dash_html_components as html\n",
    "from dash.dependencies import Input, Output\n",
    "import plotly.graph_objs as go\n",
    "\n",
    "import pandas as pd\n",
    "\n",
    "from scipy import optimize\n",
    "from scipy import integrate"
   ]
  },
  {
   "cell_type": "code",
   "execution_count": 2,
   "id": "d83c07ab",
   "metadata": {},
   "outputs": [],
   "source": [
    "# url from the Covid-19 data is extracted\n",
    "url = \"https://covid.ourworldindata.org/data/owid-covid-data.csv\""
   ]
  },
  {
   "cell_type": "code",
   "execution_count": 3,
   "id": "edef477a",
   "metadata": {},
   "outputs": [],
   "source": [
    "def get_data(url):\n",
    "    \n",
    "    \"\"\"\n",
    "    Reads CSV data COVID-19 data of different counties from the url  \n",
    "    \n",
    "    INPUT: URL of the CSV\n",
    "    OUTPUT: Pandas dataframe\n",
    "\n",
    "    \"\"\"\n",
    "    \n",
    "    url = \"https://covid.ourworldindata.org/data/owid-covid-data.csv\"\n",
    "    covid_data = pd.read_csv(url,sep=\",\")\n",
    "    print(f\"The number of unique countries in the data are {len(covid_data['location'].unique())}\")\n",
    "    \n",
    "    return covid_data\n",
    "    "
   ]
  },
  {
   "cell_type": "code",
   "execution_count": 12,
   "id": "6e8d8c95",
   "metadata": {},
   "outputs": [],
   "source": [
    "def clean_data(df):\n",
    "    \"\"\"\n",
    "    Takes in the dataframe and\n",
    "    - removes unnecessary columns\n",
    "    - fills the NaN values with zeroes [Assumption: NaN means there were no cases that day instead of filling it with mean values] \n",
    "    - correcting the datetime format\n",
    "    \n",
    "    INPUT: Pandas dataframe\n",
    "    OUTPUT: Cleaned dataframe\n",
    "\n",
    "    \"\"\"\n",
    "    cases = df[['date','location','new_cases_smoothed','total_cases', 'total_deaths', 'new_deaths_smoothed']]\n",
    "    cases = cases.fillna(0)\n",
    "    \n",
    "    # converting date object into datetime\n",
    "    cases[\"date\"]= pd.to_datetime(cases[\"date\"])\n",
    "    \n",
    "    # reseting the index\n",
    "    cases = cases.reset_index(drop = True)\n",
    "    cases['new_cases_smoothed'] = cases['new_cases_smoothed'].apply(np.ceil)\n",
    "    \n",
    "    loc = \"E:/uni/Data_Science_E/Data_Science_Enterprise/data/final_cases.csv\"\n",
    "    # saving the dataset\n",
    "    cases.to_csv(loc,index=False)\n",
    "    \n",
    "    return cases\n",
    "    "
   ]
  },
  {
   "cell_type": "code",
   "execution_count": 13,
   "id": "e32f74cc",
   "metadata": {},
   "outputs": [],
   "source": [
    "def prep_fitting_data(df,countries):\n",
    "    new = df[df.location.isin(countries)]\n",
    "    table = pd.pivot_table(new, values='new_cases_smoothed', index=['date'],\n",
    "                        columns=['location'], fill_value=0)\n",
    "    loc = \"E:/uni/Data_Science_E/Data_Science_Enterprise/data/table.csv\"\n",
    "    # saving the dataset\n",
    "    table.to_csv(loc,index=False)\n",
    "    \n",
    "    return table"
   ]
  },
  {
   "cell_type": "code",
   "execution_count": 29,
   "id": "9a97f6ab",
   "metadata": {},
   "outputs": [
    {
     "name": "stdout",
     "output_type": "stream",
     "text": [
      "The number of unique countries in the data are 244\n"
     ]
    }
   ],
   "source": [
    "covid_data = get_data(url)\n",
    "cases = clean_data(covid_data)"
   ]
  },
  {
   "cell_type": "code",
   "execution_count": 56,
   "id": "7bbb7e4e",
   "metadata": {},
   "outputs": [
    {
     "ename": "AttributeError",
     "evalue": "'DataFrame' object has no attribute 'Germany'",
     "output_type": "error",
     "traceback": [
      "\u001b[1;31m---------------------------------------------------------------------------\u001b[0m",
      "\u001b[1;31mAttributeError\u001b[0m                            Traceback (most recent call last)",
      "Input \u001b[1;32mIn [56]\u001b[0m, in \u001b[0;36m<module>\u001b[1;34m\u001b[0m\n\u001b[0;32m      2\u001b[0m beta\u001b[38;5;241m=\u001b[39m\u001b[38;5;241m0.4\u001b[39m   \u001b[38;5;66;03m# infection spread dynamics/contact rate\u001b[39;00m\n\u001b[0;32m      3\u001b[0m gamma\u001b[38;5;241m=\u001b[39m\u001b[38;5;241m0.1\u001b[39m  \u001b[38;5;66;03m# recovery rate\u001b[39;00m\n\u001b[1;32m----> 4\u001b[0m t\u001b[38;5;241m=\u001b[39mnp\u001b[38;5;241m.\u001b[39marange(\u001b[43mcases\u001b[49m\u001b[38;5;241;43m.\u001b[39;49m\u001b[43mGermany\u001b[49m[\u001b[38;5;241m220\u001b[39m:\u001b[38;5;241m320\u001b[39m])\n\u001b[0;32m      5\u001b[0m I0\u001b[38;5;241m=\u001b[39m\u001b[38;5;241m25\u001b[39m\n\u001b[0;32m      6\u001b[0m S0\u001b[38;5;241m=\u001b[39mN0\u001b[38;5;241m-\u001b[39mI0\n",
      "File \u001b[1;32mD:\\miniconda\\lib\\site-packages\\pandas\\core\\generic.py:5583\u001b[0m, in \u001b[0;36mNDFrame.__getattr__\u001b[1;34m(self, name)\u001b[0m\n\u001b[0;32m   5576\u001b[0m \u001b[38;5;28;01mif\u001b[39;00m (\n\u001b[0;32m   5577\u001b[0m     name \u001b[38;5;129;01mnot\u001b[39;00m \u001b[38;5;129;01min\u001b[39;00m \u001b[38;5;28mself\u001b[39m\u001b[38;5;241m.\u001b[39m_internal_names_set\n\u001b[0;32m   5578\u001b[0m     \u001b[38;5;129;01mand\u001b[39;00m name \u001b[38;5;129;01mnot\u001b[39;00m \u001b[38;5;129;01min\u001b[39;00m \u001b[38;5;28mself\u001b[39m\u001b[38;5;241m.\u001b[39m_metadata\n\u001b[0;32m   5579\u001b[0m     \u001b[38;5;129;01mand\u001b[39;00m name \u001b[38;5;129;01mnot\u001b[39;00m \u001b[38;5;129;01min\u001b[39;00m \u001b[38;5;28mself\u001b[39m\u001b[38;5;241m.\u001b[39m_accessors\n\u001b[0;32m   5580\u001b[0m     \u001b[38;5;129;01mand\u001b[39;00m \u001b[38;5;28mself\u001b[39m\u001b[38;5;241m.\u001b[39m_info_axis\u001b[38;5;241m.\u001b[39m_can_hold_identifiers_and_holds_name(name)\n\u001b[0;32m   5581\u001b[0m ):\n\u001b[0;32m   5582\u001b[0m     \u001b[38;5;28;01mreturn\u001b[39;00m \u001b[38;5;28mself\u001b[39m[name]\n\u001b[1;32m-> 5583\u001b[0m \u001b[38;5;28;01mreturn\u001b[39;00m \u001b[38;5;28;43mobject\u001b[39;49m\u001b[38;5;241;43m.\u001b[39;49m\u001b[38;5;21;43m__getattribute__\u001b[39;49m\u001b[43m(\u001b[49m\u001b[38;5;28;43mself\u001b[39;49m\u001b[43m,\u001b[49m\u001b[43m \u001b[49m\u001b[43mname\u001b[49m\u001b[43m)\u001b[49m\n",
      "\u001b[1;31mAttributeError\u001b[0m: 'DataFrame' object has no attribute 'Germany'"
     ]
    }
   ],
   "source": [
    "N0=1000000 #max susceptible population\n",
    "beta=0.4   # infection spread dynamics/contact rate\n",
    "gamma=0.1  # recovery rate\n",
    "t=np.arange(cases.Germany[220:320])\n",
    "I0=25\n",
    "S0=N0-I0\n",
    "R0=0"
   ]
  },
  {
   "cell_type": "code",
   "execution_count": 46,
   "id": "bbb7ecf5",
   "metadata": {},
   "outputs": [],
   "source": [
    "def SIR_model_t(SIR,t,beta,gamma):\n",
    "    ''' Simple SIR model\n",
    "        S: susceptible population\n",
    "        t: time step, mandatory for integral.odeint\n",
    "        I: infected people\n",
    "        R: recovered people\n",
    "        beta: \n",
    "        \n",
    "        overall condition is that the sum of changes (differnces) sum up to 0\n",
    "        dS+dI+dR=0\n",
    "        S+I+R= N (constant size of population)\n",
    "    \n",
    "    '''\n",
    "    \n",
    "    S,I,R=SIR\n",
    "    dS_dt=-beta*S*I/N0          #S*I is the \n",
    "    dI_dt=beta*S*I/N0-gamma*I\n",
    "    dR_dt=gamma*I\n",
    "    return dS_dt,dI_dt,dR_dt"
   ]
  },
  {
   "cell_type": "code",
   "execution_count": 45,
   "id": "61ed81a9",
   "metadata": {},
   "outputs": [],
   "source": [
    "def fit_odeint( x, beta, gamma):\n",
    "    '''\n",
    "    helper function for the integration\n",
    "    '''\n",
    "    return integrate.odeint(SIR_model_t, (S0, I0, R0), t, args=(beta, gamma))[:,1] # we only would like to get dI"
   ]
  },
  {
   "cell_type": "code",
   "execution_count": 30,
   "id": "e8dbe802",
   "metadata": {},
   "outputs": [],
   "source": [
    "countries = ['Germany','Italy','France']"
   ]
  },
  {
   "cell_type": "code",
   "execution_count": 49,
   "id": "66ce41b8",
   "metadata": {},
   "outputs": [],
   "source": [
    "app = dash.Dash()\n",
    "\n",
    "app.layout = html.Div([\n",
    "    html.H4(\"Fitting SIR model\"),\n",
    "    html.P(\"Select Country:\"),\n",
    "    dcc.Dropdown(\n",
    "        id='dropdown',\n",
    "        options=[\"Germany\", \"Italy\", \"France\"],\n",
    "        value='Germany',\n",
    "        multi=False\n",
    "    ),\n",
    "    dcc.Graph(id=\"graph\"),\n",
    "])\n",
    "\n",
    "\n",
    "@app.callback(\n",
    "    Output(\"graph\", \"figure\"), \n",
    "    Input('dropdown', \"value\"))\n",
    "\n",
    "def fit_and_display(name): \n",
    "    \n",
    "    df = prep_fitting_data(cases,countries)\n",
    "    \n",
    "    # set some basic parameters\n",
    "    # beta/gamma is denoted as  'basic reproduction number'\n",
    "\n",
    "        \n",
    "    if name == \"Germany\":\n",
    "        ydata = df.Germany[220:320]\n",
    "    elif name == \"Italy\":\n",
    "        ydata = df.Italy[220:320]\n",
    "    else:\n",
    "        ydata = df.France[220:320]\n",
    "    \n",
    "    t=np.arange(len(ydata))\n",
    "    \n",
    "    # ensure re-initialization \n",
    "    I0=ydata[0]\n",
    "    S0=N0-I0\n",
    "    R0=0\n",
    "    \n",
    "    # example curve of our differential equationa\n",
    "    popt=[0.4,0.1]\n",
    "    fit_odeint(t, *popt)\n",
    "    \n",
    "    popt, pcov = optimize.curve_fit(fit_odeint, t, ydata)\n",
    "    perr = np.sqrt(np.diag(pcov))\n",
    "\n",
    "    print('standard deviation errors : ',str(perr), ' start infect:',ydata[0])\n",
    "    print(\"Optimal parameters: beta =\", popt[0], \" and gamma = \", popt[1])\n",
    "    \n",
    "     # get the final fitted curve\n",
    "    fitted=fit_odeint(S0,I0,R0,t, *popt)\n",
    "        \n",
    "    \n",
    "    fig = go.Figure([\n",
    "        go.Scatter(x=t, y=ydata, \n",
    "                   name='true cases', mode='markers'),\n",
    "        go.Scatter(x=t, y=fitted, \n",
    "                   name='prediction')\n",
    "    ])\n",
    "    return fig\n"
   ]
  },
  {
   "cell_type": "code",
   "execution_count": 57,
   "id": "f0d28f57",
   "metadata": {},
   "outputs": [
    {
     "name": "stdout",
     "output_type": "stream",
     "text": [
      "Dash is running on http://127.0.0.1:8050/\n",
      "\n",
      "Dash is running on http://127.0.0.1:8050/\n",
      "\n",
      "Dash is running on http://127.0.0.1:8050/\n",
      "\n",
      "Dash is running on http://127.0.0.1:8050/\n",
      "\n",
      "Dash is running on http://127.0.0.1:8050/\n",
      "\n",
      "Dash is running on http://127.0.0.1:8050/\n",
      "\n",
      "Dash is running on http://127.0.0.1:8050/\n",
      "\n",
      "Dash is running on http://127.0.0.1:8050/\n",
      "\n",
      "Dash is running on http://127.0.0.1:8050/\n",
      "\n",
      "Dash is running on http://127.0.0.1:8050/\n",
      "\n",
      "Dash is running on http://127.0.0.1:8050/\n",
      "\n",
      " * Serving Flask app '__main__' (lazy loading)\n",
      " * Environment: production\n",
      "\u001b[31m   WARNING: This is a development server. Do not use it in a production deployment.\u001b[0m\n",
      "\u001b[2m   Use a production WSGI server instead.\u001b[0m\n",
      " * Debug mode: on\n"
     ]
    }
   ],
   "source": [
    "if __name__ == '__main__':\n",
    "\n",
    "    app.run_server(debug=True, use_reloader=False)"
   ]
  },
  {
   "cell_type": "code",
   "execution_count": null,
   "id": "c752fd05",
   "metadata": {},
   "outputs": [],
   "source": []
  }
 ],
 "metadata": {
  "kernelspec": {
   "display_name": "Python 3 (ipykernel)",
   "language": "python",
   "name": "python3"
  },
  "language_info": {
   "codemirror_mode": {
    "name": "ipython",
    "version": 3
   },
   "file_extension": ".py",
   "mimetype": "text/x-python",
   "name": "python",
   "nbconvert_exporter": "python",
   "pygments_lexer": "ipython3",
   "version": "3.9.7"
  }
 },
 "nbformat": 4,
 "nbformat_minor": 5
}
